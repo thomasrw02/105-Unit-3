{
 "cells": [
  {
   "cell_type": "markdown",
   "id": "b67587ba-12db-4b5b-9d18-e8733fb3662e",
   "metadata": {
    "tags": []
   },
   "source": [
    "# How to compile a new subset of HealthData.csv\n",
    "## By Thomas White\n",
    "### English 105\n",
    "\n",
    "#### Purpose:\n",
    "* This list of instructions is intended to help other users of GitHub learn how to use portions of a larger dataset in order to draw a more specific conclusion about a smaller portion  of the data.\n",
    "\n",
    "#### Experience needed?\n",
    "* You'll need to know some basic aspects of Python3, mainly how to use the pandas package for data analysis, which can be accessed here:\n",
    "[Using the Pandas Package for Data Analysis, part one](https://uncch.instructure.com/courses/4810/files/1959947?wrap=1)\n",
    "[Using the Pandas Package for Data Analysis, part two](https://uncch.instructure.com/courses/4810/files/1959948?wrap=1)\n",
    "\n",
    "#### System Requirements:\n",
    "* You'll need to download Anaconda to your computer. This comes with JupyterLab, which we'll be using. We'll also be using several files and links, which will be given to you throughout this guide. \n",
    "\n",
    "#### What are we doing?\n",
    "* In my example, I have chosen to look at *median household income by region.*\n",
    "\n",
    "* The data file we're using, HealthData.csv, is massive, and we obviously don't need all of it to look at two columns of data, so we can reduce the data sheet via indexing and filtering. Here is how:*\n",
    "\n",
    "#### Instructions:\n",
    "1. Open Anaconda Navigator, followed by JupyterLab.\n",
    "2. Click on the file icon with a plus sign on it. Name the file whatever you wish.\n",
    "3. Within your new file, click on the blue plus sign icon. \n",
    "4. Then, click on the big Python3 button under 'Notebook'. This should take you to a blank page with a list of number(s) on the side.\n",
    "5. Open the \"HealthData.csv\" file. This is listed below:\n",
    "[Health Data](https://uncch.instructure.com/courses/4810/files/1951167?wrap=1)\n",
    "6. Download this data file to your computer. It should be downloaded as a \".csv\" file.\n",
    "7. Once back on your blank Python3 page, click the arrow that is pointing up with a horizontal line below it in the top left corner. Click on \"HealthData.csv\".\n",
    "8. Go back to your blank Python3 file and click on the empty horizontal box in the middle of the screen.\n",
    "##### Here is where the actual coding starts!\n",
    "9. Import the packages that we'll need to use with Python. This is done by writing, `import numpy as np` and `import pandas as pd` in the first box.\n",
    "* Keep these commands in the same box, but put them on separate lines.* \n",
    "* After writing your code in each box, hold shift and press enter to run each box.* "
   ]
  },
  {
   "cell_type": "code",
   "execution_count": 2,
   "id": "0a1ec4e4-b666-416b-8ce8-0aaa231a0b7b",
   "metadata": {},
   "outputs": [],
   "source": [
    "import numpy as np\n",
    "import pandas as pd"
   ]
  },
  {
   "cell_type": "markdown",
   "id": "776e8860-0237-4a26-929d-e23c33686bca",
   "metadata": {},
   "source": [
    "10. Create a new box by clicking on the plus symbol with a rectangle over it. This is located on the right side of your first box. \n",
    "11. In your new box, define dataframe as df and make it equal to the pd.read_csv command, with \"HealthData.csv\" following it in round brackets. It should look like this: `df=pd.read_csv(\"HealthData.csv\")`"
   ]
  },
  {
   "cell_type": "code",
   "execution_count": 3,
   "id": "04846312-8207-4829-8cd8-af8604422f50",
   "metadata": {},
   "outputs": [],
   "source": [
    "df=pd.read_csv(\"HealthData.csv\")"
   ]
  },
  {
   "cell_type": "markdown",
   "id": "acdf46f7-a0c4-408c-83a6-000d0e3ff2a1",
   "metadata": {},
   "source": [
    "##### Quick note:\n",
    "* In HealthData.csv, four regions are defined: West, South, Northeast, and Midwest. Since we are looking at median household income by region, these are of interest to us. \n",
    "* But in HealthData.csv, the number of data points from each region are not equal. \n",
    "* For instance, we have 2803 responses for the South region, but we only have 434 for the Northeast region.\n",
    "* This unevenness is worrisome, as fewer responses for a region could cause that region's data to be inaccurate. This being the case, I randomly selected 100 data points from each region and found the median of these. Here is how:\n",
    "12. Go to HealthData.csv, and find a group of over 100 consecutive datapoints that are all from the same region. All of the regions have at least one of these groups. Ideally, find the largest group for each region. I recommend using the \"ctrl + f\" function on your computers to locate them. For example, the West region has data points from line 330 to 592. Do this for each of the four regions.\n",
    "##### More coding:\n",
    "13. Repeat step 10 to make a new box. \n",
    "14. (Part one) In the new box, we have to use the `df.loc` attribute. Write that, followed by a bracket and the range of consecutive datapoints that you've found. \n",
    "14. (Part two) After this, we must call the columns of data that we want to observe from HealthData.csv. In this instance, those are Region and Median household income. Write those in brackets. `,[\"Region\",\"Median household income\"]]`\n",
    "14. (Part three) We must now obtain a random sample of 100 data points to use. After your brackets, write `.sample(n=100)`. All together, your line of code should look like this: `df.loc[330:592,[\"Region\",\"Median household income\"]].sample(n=100)`"
   ]
  },
  {
   "cell_type": "code",
   "execution_count": 4,
   "id": "7b8a8e72-b266-4894-a9ff-cf18c0cec028",
   "metadata": {},
   "outputs": [
    {
     "data": {
      "text/html": [
       "<div>\n",
       "<style scoped>\n",
       "    .dataframe tbody tr th:only-of-type {\n",
       "        vertical-align: middle;\n",
       "    }\n",
       "\n",
       "    .dataframe tbody tr th {\n",
       "        vertical-align: top;\n",
       "    }\n",
       "\n",
       "    .dataframe thead th {\n",
       "        text-align: right;\n",
       "    }\n",
       "</style>\n",
       "<table border=\"1\" class=\"dataframe\">\n",
       "  <thead>\n",
       "    <tr style=\"text-align: right;\">\n",
       "      <th></th>\n",
       "      <th>Region</th>\n",
       "      <th>Median household income</th>\n",
       "    </tr>\n",
       "  </thead>\n",
       "  <tbody>\n",
       "    <tr>\n",
       "      <th>562</th>\n",
       "      <td>West</td>\n",
       "      <td>57510</td>\n",
       "    </tr>\n",
       "    <tr>\n",
       "      <th>373</th>\n",
       "      <td>West</td>\n",
       "      <td>38663</td>\n",
       "    </tr>\n",
       "    <tr>\n",
       "      <th>533</th>\n",
       "      <td>West</td>\n",
       "      <td>44059</td>\n",
       "    </tr>\n",
       "    <tr>\n",
       "      <th>485</th>\n",
       "      <td>West</td>\n",
       "      <td>34440</td>\n",
       "    </tr>\n",
       "    <tr>\n",
       "      <th>453</th>\n",
       "      <td>West</td>\n",
       "      <td>63398</td>\n",
       "    </tr>\n",
       "    <tr>\n",
       "      <th>...</th>\n",
       "      <td>...</td>\n",
       "      <td>...</td>\n",
       "    </tr>\n",
       "    <tr>\n",
       "      <th>524</th>\n",
       "      <td>West</td>\n",
       "      <td>56191</td>\n",
       "    </tr>\n",
       "    <tr>\n",
       "      <th>404</th>\n",
       "      <td>West</td>\n",
       "      <td>42552</td>\n",
       "    </tr>\n",
       "    <tr>\n",
       "      <th>443</th>\n",
       "      <td>West</td>\n",
       "      <td>91843</td>\n",
       "    </tr>\n",
       "    <tr>\n",
       "      <th>471</th>\n",
       "      <td>West</td>\n",
       "      <td>55011</td>\n",
       "    </tr>\n",
       "    <tr>\n",
       "      <th>460</th>\n",
       "      <td>West</td>\n",
       "      <td>38577</td>\n",
       "    </tr>\n",
       "  </tbody>\n",
       "</table>\n",
       "<p>100 rows × 2 columns</p>\n",
       "</div>"
      ],
      "text/plain": [
       "    Region  Median household income\n",
       "562   West                    57510\n",
       "373   West                    38663\n",
       "533   West                    44059\n",
       "485   West                    34440\n",
       "453   West                    63398\n",
       "..     ...                      ...\n",
       "524   West                    56191\n",
       "404   West                    42552\n",
       "443   West                    91843\n",
       "471   West                    55011\n",
       "460   West                    38577\n",
       "\n",
       "[100 rows x 2 columns]"
      ]
     },
     "execution_count": 4,
     "metadata": {},
     "output_type": "execute_result"
    }
   ],
   "source": [
    "df.loc[330:592,[\"Region\",\"Median household income\"]].sample(n=100)"
   ]
  },
  {
   "cell_type": "markdown",
   "id": "22834634-346e-4f25-b896-69e3b90397ec",
   "metadata": {},
   "source": [
    "15. Set this line of code equal to the region it draws data from, followed by `_subset`. That should look like this: `west_subset = df.loc[330:592,[\"Region\",\"Median household income\"]].sample(n=100)` "
   ]
  },
  {
   "cell_type": "code",
   "execution_count": 5,
   "id": "b68a9201-f482-41f8-93e5-9b5b849872e9",
   "metadata": {},
   "outputs": [],
   "source": [
    "west_subset = df.loc[330:592,[\"Region\",\"Median household income\"]].sample(n=100)"
   ]
  },
  {
   "cell_type": "markdown",
   "id": "eb4ab7e8-7c17-424b-a973-294cf5984131",
   "metadata": {},
   "source": [
    "16. Repeat steps 13 through 15 for each region. \n",
    "##### Changing your output into a '.csv' file\n",
    "17. To make this into a '.csv' file, we must write: `west_subset.to_csv(\"west_subset.to_csv\")`"
   ]
  },
  {
   "cell_type": "code",
   "execution_count": 6,
   "id": "f83f0013-9866-4873-b50f-d6a2d5b4b7fe",
   "metadata": {},
   "outputs": [],
   "source": [
    "west_subset.to_csv(\"west_subset.to_csv\")"
   ]
  },
  {
   "cell_type": "markdown",
   "id": "c22c7455-8668-4852-89a4-a07a90497646",
   "metadata": {
    "tags": []
   },
   "source": [
    "#### Final thoughts\n",
    "* Congrats! Now you know how to make a larger dataset smaller. You also know how to acquire random samples from larger sets of data. Thanks for using my example.  These are useful skills to have when navigating this software. There are various other examples on how to learn these skills, so thanks for using mine."
   ]
  }
 ],
 "metadata": {
  "kernelspec": {
   "display_name": "Python 3 (ipykernel)",
   "language": "python",
   "name": "python3"
  },
  "language_info": {
   "codemirror_mode": {
    "name": "ipython",
    "version": 3
   },
   "file_extension": ".py",
   "mimetype": "text/x-python",
   "name": "python",
   "nbconvert_exporter": "python",
   "pygments_lexer": "ipython3",
   "version": "3.9.13"
  }
 },
 "nbformat": 4,
 "nbformat_minor": 5
}
