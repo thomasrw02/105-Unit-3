{
 "cells": [
  {
   "cell_type": "markdown",
   "id": "b67587ba-12db-4b5b-9d18-e8733fb3662e",
   "metadata": {},
   "source": [
    "# How to compile a new subset of HealthData.csv\n",
    "## By Thomas White\n",
    "### English 105\n",
    "\n",
    "#### Purpose:\n",
    "* This list of instructions is intended to help other users of GitHub learn how to use portions of a larger dataset in order to draw a more specific conclusion about a smaller portion  of the data.\n",
    "\n",
    "#### Experience needed?\n",
    "* You'll need to know some basic aspects of Python3, mainly how to use the pandas package for data analysis, which can be accessed here:\n",
    "[Using the Pandas Package for Data Analysis, part one](https://uncch.instructure.com/courses/4810/files/1959947?wrap=1)\n",
    "[Using the Pandas Package for Data Analysis, part two](https://uncch.instructure.com/courses/4810/files/1959948?wrap=1)\n",
    "\n",
    "#### System Requirements:\n",
    "* You'll need to download Anaconda to your computer. This comes with JupyterLab, which we'll be using. We'll also be using several files and links, which will be given to you throughout this guide. \n",
    "\n",
    "#### What are we doing?\n",
    "* In my example, I have chosen to look at *median household income by region.*\n",
    "\n",
    "* The data file we're using, HealthData.csv, is massive, and we obviously don't need all of it to look at two columns of data, so we can reduce the data sheet via indexing. Here is how:*\n",
    "\n",
    "#### Instructions:\n",
    "1. Open Anaconda Navigator, followed by JupyterLab.\n",
    "2. Click on the file icon with a plus sign on it. Name the file whatever you wish.\n",
    "3. Within your new file, click on the blue plus sign icon. \n",
    "4. Then, click on the big Python3 button under 'Notebook'. This should take you to a blank page with a list of number(s) on the side.\n",
    "5. Open the \"HealthData.csv\" file. This is listed below:\n",
    "[Health Data](https://uncch.instructure.com/courses/4810/files/1951167?wrap=1)\n",
    "6. Download this data file to your computer. It should be downloaded as a \".csv\" file.\n",
    "7. Once back on your blank Python3 page, click the arrow that is pointing up with a horizontal line below it in the top left corner. Click on \"HealthData.csv\".\n",
    "8. Go back to your blank Python3 file and click on the empty horizontal box in the middle of the screen.\n",
    "##### Here is where the actual coding starts!\n",
    "9. Import the packages that we'll need to use with Python. This is done by writing, `import numpy as np` and `import pandas as pd` in the first box.\n",
    "* Keep these commands in the same box, but put them on separate lines.* \n",
    "* After writing your code in each box, hold shift and press enter to run each box.* "
   ]
  },
  {
   "cell_type": "code",
   "execution_count": 1,
   "id": "0a1ec4e4-b666-416b-8ce8-0aaa231a0b7b",
   "metadata": {},
   "outputs": [],
   "source": [
    "import numpy as np\n",
    "import pandas as pd"
   ]
  },
  {
   "cell_type": "markdown",
   "id": "776e8860-0237-4a26-929d-e23c33686bca",
   "metadata": {},
   "source": [
    "10. Create a new box by clicking on the plus symbol with a rectangle over it. This is located on the right side of your first box. \n",
    "11. In your new box, define dataframe as df and make it equal to the pd.read_csv command, with \"HealthData.csv\" following it in round brackets. It should look like this: `df=pd.read_csv(\"HealthData.csv\")`"
   ]
  },
  {
   "cell_type": "code",
   "execution_count": 2,
   "id": "04846312-8207-4829-8cd8-af8604422f50",
   "metadata": {},
   "outputs": [],
   "source": [
    "df=pd.read_csv(\"HealthData.csv\")"
   ]
  },
  {
   "cell_type": "markdown",
   "id": "acdf46f7-a0c4-408c-83a6-000d0e3ff2a1",
   "metadata": {},
   "source": [
    "12. Repeat step 10, and call the columns of \"Region\" and \"Median household income\". It should look like this: `df[[\"Region\", \"Median household income\"]]` \n",
    "13. Once you run this block of code, a table with the columns 'Region' and 'Median household income' should be evident with 6109 rows of data."
   ]
  },
  {
   "cell_type": "code",
   "execution_count": 3,
   "id": "7b8a8e72-b266-4894-a9ff-cf18c0cec028",
   "metadata": {},
   "outputs": [
    {
     "data": {
      "text/html": [
       "<div>\n",
       "<style scoped>\n",
       "    .dataframe tbody tr th:only-of-type {\n",
       "        vertical-align: middle;\n",
       "    }\n",
       "\n",
       "    .dataframe tbody tr th {\n",
       "        vertical-align: top;\n",
       "    }\n",
       "\n",
       "    .dataframe thead th {\n",
       "        text-align: right;\n",
       "    }\n",
       "</style>\n",
       "<table border=\"1\" class=\"dataframe\">\n",
       "  <thead>\n",
       "    <tr style=\"text-align: right;\">\n",
       "      <th></th>\n",
       "      <th>Region</th>\n",
       "      <th>Median household income</th>\n",
       "    </tr>\n",
       "  </thead>\n",
       "  <tbody>\n",
       "    <tr>\n",
       "      <th>0</th>\n",
       "      <td>West</td>\n",
       "      <td>69192</td>\n",
       "    </tr>\n",
       "    <tr>\n",
       "      <th>1</th>\n",
       "      <td>West</td>\n",
       "      <td>74088</td>\n",
       "    </tr>\n",
       "    <tr>\n",
       "      <th>2</th>\n",
       "      <td>West</td>\n",
       "      <td>71094</td>\n",
       "    </tr>\n",
       "    <tr>\n",
       "      <th>3</th>\n",
       "      <td>West</td>\n",
       "      <td>76362</td>\n",
       "    </tr>\n",
       "    <tr>\n",
       "      <th>4</th>\n",
       "      <td>West</td>\n",
       "      <td>41722</td>\n",
       "    </tr>\n",
       "    <tr>\n",
       "      <th>...</th>\n",
       "      <td>...</td>\n",
       "      <td>...</td>\n",
       "    </tr>\n",
       "    <tr>\n",
       "      <th>6104</th>\n",
       "      <td>West</td>\n",
       "      <td>60953</td>\n",
       "    </tr>\n",
       "    <tr>\n",
       "      <th>6105</th>\n",
       "      <td>West</td>\n",
       "      <td>49533</td>\n",
       "    </tr>\n",
       "    <tr>\n",
       "      <th>6106</th>\n",
       "      <td>West</td>\n",
       "      <td>50740</td>\n",
       "    </tr>\n",
       "    <tr>\n",
       "      <th>6107</th>\n",
       "      <td>West</td>\n",
       "      <td>53665</td>\n",
       "    </tr>\n",
       "    <tr>\n",
       "      <th>6108</th>\n",
       "      <td>West</td>\n",
       "      <td>59314</td>\n",
       "    </tr>\n",
       "  </tbody>\n",
       "</table>\n",
       "<p>6109 rows × 2 columns</p>\n",
       "</div>"
      ],
      "text/plain": [
       "     Region  Median household income\n",
       "0      West                    69192\n",
       "1      West                    74088\n",
       "2      West                    71094\n",
       "3      West                    76362\n",
       "4      West                    41722\n",
       "...     ...                      ...\n",
       "6104   West                    60953\n",
       "6105   West                    49533\n",
       "6106   West                    50740\n",
       "6107   West                    53665\n",
       "6108   West                    59314\n",
       "\n",
       "[6109 rows x 2 columns]"
      ]
     },
     "execution_count": 3,
     "metadata": {},
     "output_type": "execute_result"
    }
   ],
   "source": [
    "df[[\"Region\", \"Median household income\"]]"
   ]
  },
  {
   "cell_type": "markdown",
   "id": "22834634-346e-4f25-b896-69e3b90397ec",
   "metadata": {},
   "source": [
    "* In order to make this data into a \".csv\" file, we must complete a couple more steps.\n",
    "14. First we must declare this data as a subset. Create a new box, and set your output equal to the prior box of code with \".copy()\" at the end. It should look like this: * `data_subset = df[[\"Region\", \"Median household income\"]].copy()`\n",
    "* I called my data data_subset, but you can call yours whatever you wish as long as `_subset` comes last. \n",
    "15. To make this into a \".csv\" file, we then must write: `data_subset.to_csv(\"data_subset.to_csv\")`"
   ]
  },
  {
   "cell_type": "code",
   "execution_count": 5,
   "id": "b68a9201-f482-41f8-93e5-9b5b849872e9",
   "metadata": {},
   "outputs": [],
   "source": [
    "data_subset = df[[\"Region\", \"Median household income\"]].copy()"
   ]
  },
  {
   "cell_type": "code",
   "execution_count": 9,
   "id": "f83f0013-9866-4873-b50f-d6a2d5b4b7fe",
   "metadata": {},
   "outputs": [],
   "source": [
    "data_subset.to_csv(\"data_subset.to_csv\")"
   ]
  },
  {
   "cell_type": "markdown",
   "id": "c22c7455-8668-4852-89a4-a07a90497646",
   "metadata": {},
   "source": [
    "#### Final thoughts\n",
    "* Congrats! Now you know how to make a larger dataset smaller. This is a useful skill to have when navigating this software. Thanks for using my example."
   ]
  }
 ],
 "metadata": {
  "kernelspec": {
   "display_name": "Python 3 (ipykernel)",
   "language": "python",
   "name": "python3"
  },
  "language_info": {
   "codemirror_mode": {
    "name": "ipython",
    "version": 3
   },
   "file_extension": ".py",
   "mimetype": "text/x-python",
   "name": "python",
   "nbconvert_exporter": "python",
   "pygments_lexer": "ipython3",
   "version": "3.9.13"
  }
 },
 "nbformat": 4,
 "nbformat_minor": 5
}
